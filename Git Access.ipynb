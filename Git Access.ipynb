{
 "cells": [
  {
   "cell_type": "code",
   "execution_count": 0,
   "metadata": {
    "application/vnd.databricks.v1+cell": {
     "cellMetadata": {
      "byteLimit": 2048000,
      "rowLimit": 10000
     },
     "inputWidgets": {},
     "nuid": "8884e826-4317-4452-a619-7c65c3675124",
     "showTitle": false,
     "tableResultSettingsMap": {},
     "title": ""
    }
   },
   "outputs": [],
   "source": [
    "# Step 1: Define the CSV path\n",
    "csv_path = \"file:/Workspace/Users/noahkornberg@gmail.com/CIHR/Commercialization_Linkup_V2.csv\"\n",
    "\n",
    "# Step 2: Read the CSV into a Spark DataFrame\n",
    "df = spark.read.option(\"header\", True).option(\"inferSchema\", True).csv(csv_path)\n",
    "\n",
    "# Step 3: Assign to a named variable\n",
    "df_commercialization = df\n",
    "print(\"✅ CSV loaded into df_commercialization\")\n",
    "\n",
    "# Step 4: Save as Delta table in the default schema\n",
    "df_commercialization.write.format(\"delta\").mode(\"overwrite\").saveAsTable(\"commercialization_v2\")\n",
    "print(\"✅ Saved as Delta table: commercialization_v2 (in default schema)\")\n",
    "\n",
    "# Step 5: Load and preview saved table\n",
    "df_saved = spark.table(\"commercialization_v2\")\n",
    "df_saved.show(5)\n"
   ]
  },
  {
   "cell_type": "code",
   "execution_count": 0,
   "metadata": {
    "application/vnd.databricks.v1+cell": {
     "cellMetadata": {
      "byteLimit": 2048000,
      "rowLimit": 10000
     },
     "inputWidgets": {},
     "nuid": "6f762881-5ead-4b10-9751-bc9c34822819",
     "showTitle": false,
     "tableResultSettingsMap": {},
     "title": ""
    }
   },
   "outputs": [],
   "source": [
    "# Load the Delta table into a Spark DataFrame\n",
    "df = spark.table(\"commercialization_v2\")\n",
    "\n",
    "# Convert to Pandas\n",
    "pdf = df.toPandas()\n",
    "\n",
    "# Define export path (overwrite CSV in your Git-tracked folder)\n",
    "export_path = \"/Workspace/Users/noahkornberg@gmail.com/CIHR/Commercialization_Linkup_V2.csv\"\n",
    "\n",
    "# Save it\n",
    "pdf.to_csv(export_path, index=False)\n",
    "print(\"✅ Exported table to Git-tracked CSV.\")\n"
   ]
  }
 ],
 "metadata": {
  "application/vnd.databricks.v1+notebook": {
   "computePreferences": null,
   "dashboards": [],
   "environmentMetadata": {
    "base_environment": "",
    "environment_version": "2"
   },
   "inputWidgetPreferences": null,
   "language": "python",
   "notebookMetadata": {
    "mostRecentlyExecutedCommandWithImplicitDF": {
     "commandId": -1,
     "dataframes": [
      "_sqldf"
     ]
    },
    "pythonIndentUnit": 4
   },
   "notebookName": "Git Access",
   "widgets": {}
  },
  "language_info": {
   "name": "python"
  }
 },
 "nbformat": 4,
 "nbformat_minor": 0
}
